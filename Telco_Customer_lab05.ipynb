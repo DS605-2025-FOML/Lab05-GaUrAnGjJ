{
 "cells": [
  {
   "cell_type": "code",
   "execution_count": 48,
   "id": "74697d54",
   "metadata": {},
   "outputs": [],
   "source": [
    "import pandas as pd\n",
    "import numpy as np\n",
    "import matplotlib.pyplot as plt\n",
    "import seaborn as sns\n",
    "from sklearn.model_selection import train_test_split\n",
    "from sklearn.pipeline import Pipeline\n",
    "from sklearn.compose import ColumnTransformer\n",
    "from sklearn.impute import SimpleImputer\n",
    "from sklearn.preprocessing import StandardScaler, OneHotEncoder\n",
    "from sklearn.linear_model import LogisticRegression\n",
    "from sklearn.metrics import classification_report, confusion_matrix, accuracy_score\n",
    "\n"
   ]
  },
  {
   "cell_type": "markdown",
   "id": "9e5d2ab6",
   "metadata": {},
   "source": [
    "Task 1: Exploratory Data Analysis (EDA) and Initial Cleaning."
   ]
  },
  {
   "cell_type": "code",
   "execution_count": 49,
   "id": "1d59e6e2",
   "metadata": {},
   "outputs": [],
   "source": [
    "df = pd.read_csv(\"D:\\\\COLLEGE\\\\DAIICT\\\\Machine Learning\\\\Assignments\\\\lab05\\\\train.csv\")"
   ]
  },
  {
   "cell_type": "code",
   "execution_count": 50,
   "id": "7b713b02",
   "metadata": {},
   "outputs": [
    {
     "data": {
      "text/plain": [
       "Age                                     0\n",
       "Avg Monthly GB Download                 0\n",
       "Avg Monthly Long Distance Charges       0\n",
       "Churn Category                       3104\n",
       "Churn Reason                         3104\n",
       "Churn Score                             0\n",
       "City                                    0\n",
       "CLTV                                    0\n",
       "Contract                                0\n",
       "Country                                 0\n",
       "Customer ID                             0\n",
       "Customer Status                         0\n",
       "Dependents                              0\n",
       "Device Protection Plan                  0\n",
       "Gender                                  0\n",
       "Internet Service                        0\n",
       "Internet Type                         886\n",
       "Lat Long                                0\n",
       "Latitude                                0\n",
       "Longitude                               0\n",
       "Married                                 0\n",
       "Monthly Charge                          0\n",
       "Multiple Lines                          0\n",
       "Number of Dependents                    0\n",
       "Number of Referrals                     0\n",
       "Offer                                2324\n",
       "Online Backup                           0\n",
       "Online Security                         0\n",
       "Paperless Billing                       0\n",
       "Partner                                 0\n",
       "Payment Method                          0\n",
       "Phone Service                           0\n",
       "Population                              0\n",
       "Premium Tech Support                    0\n",
       "Quarter                                 0\n",
       "Referred a Friend                       0\n",
       "Satisfaction Score                      0\n",
       "Senior Citizen                          0\n",
       "State                                   0\n",
       "Streaming Movies                        0\n",
       "Streaming Music                         0\n",
       "Streaming TV                            0\n",
       "Tenure in Months                        0\n",
       "Total Charges                           0\n",
       "Total Extra Data Charges                0\n",
       "Total Long Distance Charges             0\n",
       "Total Refunds                           0\n",
       "Total Revenue                           0\n",
       "Under 30                                0\n",
       "Unlimited Data                          0\n",
       "Zip Code                                0\n",
       "Churn                                   0\n",
       "dtype: int64"
      ]
     },
     "execution_count": 50,
     "metadata": {},
     "output_type": "execute_result"
    }
   ],
   "source": [
    "df.isnull().sum()"
   ]
  },
  {
   "cell_type": "code",
   "execution_count": 51,
   "id": "40df65c3",
   "metadata": {},
   "outputs": [
    {
     "data": {
      "text/html": [
       "<div>\n",
       "<style scoped>\n",
       "    .dataframe tbody tr th:only-of-type {\n",
       "        vertical-align: middle;\n",
       "    }\n",
       "\n",
       "    .dataframe tbody tr th {\n",
       "        vertical-align: top;\n",
       "    }\n",
       "\n",
       "    .dataframe thead th {\n",
       "        text-align: right;\n",
       "    }\n",
       "</style>\n",
       "<table border=\"1\" class=\"dataframe\">\n",
       "  <thead>\n",
       "    <tr style=\"text-align: right;\">\n",
       "      <th></th>\n",
       "      <th>Age</th>\n",
       "      <th>Avg Monthly GB Download</th>\n",
       "      <th>Avg Monthly Long Distance Charges</th>\n",
       "      <th>Churn Category</th>\n",
       "      <th>Churn Reason</th>\n",
       "      <th>Churn Score</th>\n",
       "      <th>City</th>\n",
       "      <th>CLTV</th>\n",
       "      <th>Contract</th>\n",
       "      <th>Country</th>\n",
       "      <th>...</th>\n",
       "      <th>Tenure in Months</th>\n",
       "      <th>Total Charges</th>\n",
       "      <th>Total Extra Data Charges</th>\n",
       "      <th>Total Long Distance Charges</th>\n",
       "      <th>Total Refunds</th>\n",
       "      <th>Total Revenue</th>\n",
       "      <th>Under 30</th>\n",
       "      <th>Unlimited Data</th>\n",
       "      <th>Zip Code</th>\n",
       "      <th>Churn</th>\n",
       "    </tr>\n",
       "  </thead>\n",
       "  <tbody>\n",
       "    <tr>\n",
       "      <th>0</th>\n",
       "      <td>72</td>\n",
       "      <td>4</td>\n",
       "      <td>19.44</td>\n",
       "      <td>NaN</td>\n",
       "      <td>NaN</td>\n",
       "      <td>51</td>\n",
       "      <td>San Mateo</td>\n",
       "      <td>4849</td>\n",
       "      <td>Two Year</td>\n",
       "      <td>United States</td>\n",
       "      <td>...</td>\n",
       "      <td>25</td>\n",
       "      <td>2191.15</td>\n",
       "      <td>0</td>\n",
       "      <td>486.00</td>\n",
       "      <td>0.00</td>\n",
       "      <td>2677.15</td>\n",
       "      <td>0</td>\n",
       "      <td>1</td>\n",
       "      <td>94403</td>\n",
       "      <td>0</td>\n",
       "    </tr>\n",
       "    <tr>\n",
       "      <th>1</th>\n",
       "      <td>27</td>\n",
       "      <td>59</td>\n",
       "      <td>45.62</td>\n",
       "      <td>NaN</td>\n",
       "      <td>NaN</td>\n",
       "      <td>27</td>\n",
       "      <td>Sutter Creek</td>\n",
       "      <td>3715</td>\n",
       "      <td>Month-to-Month</td>\n",
       "      <td>United States</td>\n",
       "      <td>...</td>\n",
       "      <td>35</td>\n",
       "      <td>3418.20</td>\n",
       "      <td>0</td>\n",
       "      <td>1596.70</td>\n",
       "      <td>0.00</td>\n",
       "      <td>5014.90</td>\n",
       "      <td>1</td>\n",
       "      <td>1</td>\n",
       "      <td>95685</td>\n",
       "      <td>0</td>\n",
       "    </tr>\n",
       "    <tr>\n",
       "      <th>2</th>\n",
       "      <td>59</td>\n",
       "      <td>0</td>\n",
       "      <td>16.07</td>\n",
       "      <td>NaN</td>\n",
       "      <td>NaN</td>\n",
       "      <td>59</td>\n",
       "      <td>Santa Cruz</td>\n",
       "      <td>5092</td>\n",
       "      <td>Month-to-Month</td>\n",
       "      <td>United States</td>\n",
       "      <td>...</td>\n",
       "      <td>46</td>\n",
       "      <td>851.20</td>\n",
       "      <td>0</td>\n",
       "      <td>739.22</td>\n",
       "      <td>0.00</td>\n",
       "      <td>1590.42</td>\n",
       "      <td>0</td>\n",
       "      <td>0</td>\n",
       "      <td>95064</td>\n",
       "      <td>0</td>\n",
       "    </tr>\n",
       "    <tr>\n",
       "      <th>3</th>\n",
       "      <td>25</td>\n",
       "      <td>27</td>\n",
       "      <td>0.00</td>\n",
       "      <td>NaN</td>\n",
       "      <td>NaN</td>\n",
       "      <td>49</td>\n",
       "      <td>Brea</td>\n",
       "      <td>2068</td>\n",
       "      <td>One Year</td>\n",
       "      <td>United States</td>\n",
       "      <td>...</td>\n",
       "      <td>27</td>\n",
       "      <td>1246.40</td>\n",
       "      <td>30</td>\n",
       "      <td>0.00</td>\n",
       "      <td>0.00</td>\n",
       "      <td>1276.40</td>\n",
       "      <td>1</td>\n",
       "      <td>0</td>\n",
       "      <td>92823</td>\n",
       "      <td>0</td>\n",
       "    </tr>\n",
       "    <tr>\n",
       "      <th>4</th>\n",
       "      <td>31</td>\n",
       "      <td>21</td>\n",
       "      <td>17.22</td>\n",
       "      <td>Dissatisfaction</td>\n",
       "      <td>Network reliability</td>\n",
       "      <td>88</td>\n",
       "      <td>San Jose</td>\n",
       "      <td>4026</td>\n",
       "      <td>One Year</td>\n",
       "      <td>United States</td>\n",
       "      <td>...</td>\n",
       "      <td>58</td>\n",
       "      <td>3563.80</td>\n",
       "      <td>0</td>\n",
       "      <td>998.76</td>\n",
       "      <td>0.00</td>\n",
       "      <td>4562.56</td>\n",
       "      <td>0</td>\n",
       "      <td>1</td>\n",
       "      <td>95117</td>\n",
       "      <td>1</td>\n",
       "    </tr>\n",
       "    <tr>\n",
       "      <th>...</th>\n",
       "      <td>...</td>\n",
       "      <td>...</td>\n",
       "      <td>...</td>\n",
       "      <td>...</td>\n",
       "      <td>...</td>\n",
       "      <td>...</td>\n",
       "      <td>...</td>\n",
       "      <td>...</td>\n",
       "      <td>...</td>\n",
       "      <td>...</td>\n",
       "      <td>...</td>\n",
       "      <td>...</td>\n",
       "      <td>...</td>\n",
       "      <td>...</td>\n",
       "      <td>...</td>\n",
       "      <td>...</td>\n",
       "      <td>...</td>\n",
       "      <td>...</td>\n",
       "      <td>...</td>\n",
       "      <td>...</td>\n",
       "      <td>...</td>\n",
       "    </tr>\n",
       "    <tr>\n",
       "      <th>4220</th>\n",
       "      <td>36</td>\n",
       "      <td>0</td>\n",
       "      <td>7.76</td>\n",
       "      <td>NaN</td>\n",
       "      <td>NaN</td>\n",
       "      <td>52</td>\n",
       "      <td>Long Beach</td>\n",
       "      <td>4590</td>\n",
       "      <td>Month-to-Month</td>\n",
       "      <td>United States</td>\n",
       "      <td>...</td>\n",
       "      <td>1</td>\n",
       "      <td>19.90</td>\n",
       "      <td>0</td>\n",
       "      <td>7.76</td>\n",
       "      <td>0.00</td>\n",
       "      <td>27.66</td>\n",
       "      <td>0</td>\n",
       "      <td>0</td>\n",
       "      <td>90806</td>\n",
       "      <td>0</td>\n",
       "    </tr>\n",
       "    <tr>\n",
       "      <th>4221</th>\n",
       "      <td>77</td>\n",
       "      <td>22</td>\n",
       "      <td>23.43</td>\n",
       "      <td>NaN</td>\n",
       "      <td>NaN</td>\n",
       "      <td>34</td>\n",
       "      <td>San Francisco</td>\n",
       "      <td>5602</td>\n",
       "      <td>One Year</td>\n",
       "      <td>United States</td>\n",
       "      <td>...</td>\n",
       "      <td>22</td>\n",
       "      <td>1820.90</td>\n",
       "      <td>0</td>\n",
       "      <td>515.46</td>\n",
       "      <td>29.88</td>\n",
       "      <td>2306.48</td>\n",
       "      <td>0</td>\n",
       "      <td>1</td>\n",
       "      <td>94127</td>\n",
       "      <td>0</td>\n",
       "    </tr>\n",
       "    <tr>\n",
       "      <th>4222</th>\n",
       "      <td>56</td>\n",
       "      <td>0</td>\n",
       "      <td>28.06</td>\n",
       "      <td>NaN</td>\n",
       "      <td>NaN</td>\n",
       "      <td>63</td>\n",
       "      <td>Olivehurst</td>\n",
       "      <td>4458</td>\n",
       "      <td>One Year</td>\n",
       "      <td>United States</td>\n",
       "      <td>...</td>\n",
       "      <td>18</td>\n",
       "      <td>345.90</td>\n",
       "      <td>0</td>\n",
       "      <td>505.08</td>\n",
       "      <td>0.00</td>\n",
       "      <td>850.98</td>\n",
       "      <td>0</td>\n",
       "      <td>0</td>\n",
       "      <td>95961</td>\n",
       "      <td>0</td>\n",
       "    </tr>\n",
       "    <tr>\n",
       "      <th>4223</th>\n",
       "      <td>45</td>\n",
       "      <td>22</td>\n",
       "      <td>0.00</td>\n",
       "      <td>NaN</td>\n",
       "      <td>NaN</td>\n",
       "      <td>38</td>\n",
       "      <td>Westlake Village</td>\n",
       "      <td>4115</td>\n",
       "      <td>Month-to-Month</td>\n",
       "      <td>United States</td>\n",
       "      <td>...</td>\n",
       "      <td>57</td>\n",
       "      <td>3437.45</td>\n",
       "      <td>0</td>\n",
       "      <td>0.00</td>\n",
       "      <td>0.00</td>\n",
       "      <td>3437.45</td>\n",
       "      <td>0</td>\n",
       "      <td>1</td>\n",
       "      <td>91361</td>\n",
       "      <td>0</td>\n",
       "    </tr>\n",
       "    <tr>\n",
       "      <th>4224</th>\n",
       "      <td>45</td>\n",
       "      <td>22</td>\n",
       "      <td>12.69</td>\n",
       "      <td>NaN</td>\n",
       "      <td>NaN</td>\n",
       "      <td>42</td>\n",
       "      <td>Berkeley</td>\n",
       "      <td>5574</td>\n",
       "      <td>One Year</td>\n",
       "      <td>United States</td>\n",
       "      <td>...</td>\n",
       "      <td>17</td>\n",
       "      <td>1387.35</td>\n",
       "      <td>0</td>\n",
       "      <td>215.73</td>\n",
       "      <td>0.00</td>\n",
       "      <td>1603.08</td>\n",
       "      <td>0</td>\n",
       "      <td>1</td>\n",
       "      <td>94702</td>\n",
       "      <td>0</td>\n",
       "    </tr>\n",
       "  </tbody>\n",
       "</table>\n",
       "<p>4225 rows × 52 columns</p>\n",
       "</div>"
      ],
      "text/plain": [
       "      Age  Avg Monthly GB Download  Avg Monthly Long Distance Charges  \\\n",
       "0      72                        4                              19.44   \n",
       "1      27                       59                              45.62   \n",
       "2      59                        0                              16.07   \n",
       "3      25                       27                               0.00   \n",
       "4      31                       21                              17.22   \n",
       "...   ...                      ...                                ...   \n",
       "4220   36                        0                               7.76   \n",
       "4221   77                       22                              23.43   \n",
       "4222   56                        0                              28.06   \n",
       "4223   45                       22                               0.00   \n",
       "4224   45                       22                              12.69   \n",
       "\n",
       "       Churn Category         Churn Reason  Churn Score              City  \\\n",
       "0                 NaN                  NaN           51         San Mateo   \n",
       "1                 NaN                  NaN           27      Sutter Creek   \n",
       "2                 NaN                  NaN           59        Santa Cruz   \n",
       "3                 NaN                  NaN           49              Brea   \n",
       "4     Dissatisfaction  Network reliability           88          San Jose   \n",
       "...               ...                  ...          ...               ...   \n",
       "4220              NaN                  NaN           52        Long Beach   \n",
       "4221              NaN                  NaN           34     San Francisco   \n",
       "4222              NaN                  NaN           63        Olivehurst   \n",
       "4223              NaN                  NaN           38  Westlake Village   \n",
       "4224              NaN                  NaN           42          Berkeley   \n",
       "\n",
       "      CLTV        Contract        Country  ... Tenure in Months Total Charges  \\\n",
       "0     4849        Two Year  United States  ...               25       2191.15   \n",
       "1     3715  Month-to-Month  United States  ...               35       3418.20   \n",
       "2     5092  Month-to-Month  United States  ...               46        851.20   \n",
       "3     2068        One Year  United States  ...               27       1246.40   \n",
       "4     4026        One Year  United States  ...               58       3563.80   \n",
       "...    ...             ...            ...  ...              ...           ...   \n",
       "4220  4590  Month-to-Month  United States  ...                1         19.90   \n",
       "4221  5602        One Year  United States  ...               22       1820.90   \n",
       "4222  4458        One Year  United States  ...               18        345.90   \n",
       "4223  4115  Month-to-Month  United States  ...               57       3437.45   \n",
       "4224  5574        One Year  United States  ...               17       1387.35   \n",
       "\n",
       "      Total Extra Data Charges  Total Long Distance Charges Total Refunds  \\\n",
       "0                            0                       486.00          0.00   \n",
       "1                            0                      1596.70          0.00   \n",
       "2                            0                       739.22          0.00   \n",
       "3                           30                         0.00          0.00   \n",
       "4                            0                       998.76          0.00   \n",
       "...                        ...                          ...           ...   \n",
       "4220                         0                         7.76          0.00   \n",
       "4221                         0                       515.46         29.88   \n",
       "4222                         0                       505.08          0.00   \n",
       "4223                         0                         0.00          0.00   \n",
       "4224                         0                       215.73          0.00   \n",
       "\n",
       "      Total Revenue Under 30 Unlimited Data  Zip Code  Churn  \n",
       "0           2677.15        0              1     94403      0  \n",
       "1           5014.90        1              1     95685      0  \n",
       "2           1590.42        0              0     95064      0  \n",
       "3           1276.40        1              0     92823      0  \n",
       "4           4562.56        0              1     95117      1  \n",
       "...             ...      ...            ...       ...    ...  \n",
       "4220          27.66        0              0     90806      0  \n",
       "4221        2306.48        0              1     94127      0  \n",
       "4222         850.98        0              0     95961      0  \n",
       "4223        3437.45        0              1     91361      0  \n",
       "4224        1603.08        0              1     94702      0  \n",
       "\n",
       "[4225 rows x 52 columns]"
      ]
     },
     "execution_count": 51,
     "metadata": {},
     "output_type": "execute_result"
    }
   ],
   "source": [
    "df"
   ]
  },
  {
   "cell_type": "code",
   "execution_count": 52,
   "id": "0a7000f7",
   "metadata": {},
   "outputs": [
    {
     "data": {
      "text/plain": [
       "Age                                    int64\n",
       "Avg Monthly GB Download                int64\n",
       "Avg Monthly Long Distance Charges    float64\n",
       "Churn Category                        object\n",
       "Churn Reason                          object\n",
       "Churn Score                            int64\n",
       "City                                  object\n",
       "CLTV                                   int64\n",
       "Contract                              object\n",
       "Country                               object\n",
       "Customer ID                           object\n",
       "Customer Status                       object\n",
       "Dependents                             int64\n",
       "Device Protection Plan                 int64\n",
       "Gender                                object\n",
       "Internet Service                       int64\n",
       "Internet Type                         object\n",
       "Lat Long                              object\n",
       "Latitude                             float64\n",
       "Longitude                            float64\n",
       "Married                                int64\n",
       "Monthly Charge                       float64\n",
       "Multiple Lines                         int64\n",
       "Number of Dependents                   int64\n",
       "Number of Referrals                    int64\n",
       "Offer                                 object\n",
       "Online Backup                          int64\n",
       "Online Security                        int64\n",
       "Paperless Billing                      int64\n",
       "Partner                                int64\n",
       "Payment Method                        object\n",
       "Phone Service                          int64\n",
       "Population                             int64\n",
       "Premium Tech Support                   int64\n",
       "Quarter                               object\n",
       "Referred a Friend                      int64\n",
       "Satisfaction Score                     int64\n",
       "Senior Citizen                         int64\n",
       "State                                 object\n",
       "Streaming Movies                       int64\n",
       "Streaming Music                        int64\n",
       "Streaming TV                           int64\n",
       "Tenure in Months                       int64\n",
       "Total Charges                        float64\n",
       "Total Extra Data Charges               int64\n",
       "Total Long Distance Charges          float64\n",
       "Total Refunds                        float64\n",
       "Total Revenue                        float64\n",
       "Under 30                               int64\n",
       "Unlimited Data                         int64\n",
       "Zip Code                               int64\n",
       "Churn                                  int64\n",
       "dtype: object"
      ]
     },
     "execution_count": 52,
     "metadata": {},
     "output_type": "execute_result"
    }
   ],
   "source": [
    "df.dtypes"
   ]
  },
  {
   "cell_type": "markdown",
   "id": "79e5db8c",
   "metadata": {},
   "source": [
    "We are dropping the churn Category and churn Reason column because they have more than 60% missing values and offer column is a object datatype .So, I fill the missing value with no offer . "
   ]
  },
  {
   "cell_type": "code",
   "execution_count": 53,
   "id": "9fa89695",
   "metadata": {},
   "outputs": [],
   "source": [
    "df.drop(['Churn Category' , 'Churn Reason'] , axis = 1 , inplace=True)\n"
   ]
  },
  {
   "cell_type": "code",
   "execution_count": 54,
   "id": "0667ef1a",
   "metadata": {},
   "outputs": [],
   "source": [
    "df['Offer'] = df['Offer'].fillna('No offer')"
   ]
  },
  {
   "cell_type": "code",
   "execution_count": 55,
   "id": "e1393104",
   "metadata": {},
   "outputs": [
    {
     "data": {
      "text/plain": [
       "Age                                    0\n",
       "Avg Monthly GB Download                0\n",
       "Avg Monthly Long Distance Charges      0\n",
       "Churn Score                            0\n",
       "City                                   0\n",
       "CLTV                                   0\n",
       "Contract                               0\n",
       "Country                                0\n",
       "Customer ID                            0\n",
       "Customer Status                        0\n",
       "Dependents                             0\n",
       "Device Protection Plan                 0\n",
       "Gender                                 0\n",
       "Internet Service                       0\n",
       "Internet Type                        886\n",
       "Lat Long                               0\n",
       "Latitude                               0\n",
       "Longitude                              0\n",
       "Married                                0\n",
       "Monthly Charge                         0\n",
       "Multiple Lines                         0\n",
       "Number of Dependents                   0\n",
       "Number of Referrals                    0\n",
       "Offer                                  0\n",
       "Online Backup                          0\n",
       "Online Security                        0\n",
       "Paperless Billing                      0\n",
       "Partner                                0\n",
       "Payment Method                         0\n",
       "Phone Service                          0\n",
       "Population                             0\n",
       "Premium Tech Support                   0\n",
       "Quarter                                0\n",
       "Referred a Friend                      0\n",
       "Satisfaction Score                     0\n",
       "Senior Citizen                         0\n",
       "State                                  0\n",
       "Streaming Movies                       0\n",
       "Streaming Music                        0\n",
       "Streaming TV                           0\n",
       "Tenure in Months                       0\n",
       "Total Charges                          0\n",
       "Total Extra Data Charges               0\n",
       "Total Long Distance Charges            0\n",
       "Total Refunds                          0\n",
       "Total Revenue                          0\n",
       "Under 30                               0\n",
       "Unlimited Data                         0\n",
       "Zip Code                               0\n",
       "Churn                                  0\n",
       "dtype: int64"
      ]
     },
     "execution_count": 55,
     "metadata": {},
     "output_type": "execute_result"
    }
   ],
   "source": [
    "df.isnull().sum()"
   ]
  },
  {
   "cell_type": "code",
   "execution_count": 56,
   "id": "a5230947",
   "metadata": {},
   "outputs": [
    {
     "data": {
      "text/plain": [
       "Internet Type\n",
       "Fiber Optic    1829\n",
       "DSL            1008\n",
       "Cable           502\n",
       "Name: count, dtype: int64"
      ]
     },
     "execution_count": 56,
     "metadata": {},
     "output_type": "execute_result"
    }
   ],
   "source": [
    "df['Internet Type'].value_counts()\n"
   ]
  },
  {
   "cell_type": "code",
   "execution_count": 57,
   "id": "77806768",
   "metadata": {},
   "outputs": [
    {
     "data": {
      "image/png": "[encoded data removed]",
      "text/plain": [
       "<Figure size 1500x500 with 1 Axes>"
      ]
     },
     "metadata": {},
     "output_type": "display_data"
    }
   ],
   "source": [
    "plt.figure(figsize=(15,5))\n",
    "\n",
    "plt.subplot(1,3,1)\n",
    "plt.boxplot(df['Churn Score'].dropna())\n",
    "plt.title(\"Price\")\n",
    "\n",
    "plt.tight_layout()\n",
    "plt.show()"
   ]
  },
  {
   "cell_type": "code",
   "execution_count": 58,
   "id": "b8680d90",
   "metadata": {},
   "outputs": [
    {
     "data": {
      "image/png": "[encoded data removed]",
      "text/plain": [
       "<Figure size 1000x600 with 1 Axes>"
      ]
     },
     "metadata": {},
     "output_type": "display_data"
    }
   ],
   "source": [
    "plt.figure(figsize=(10,6))\n",
    "sns.histplot(data=df, x=\"Total Charges\", hue=\"Churn\", bins=30, kde=True, alpha=0.5)\n",
    "plt.title(\"Histogram of Total Charges by Churn Status\")\n",
    "plt.xlabel(\"Total Charges\")\n",
    "plt.ylabel(\"Count\")\n",
    "plt.show()"
   ]
  },
  {
   "cell_type": "code",
   "execution_count": 59,
   "id": "4be94c70",
   "metadata": {},
   "outputs": [
    {
     "data": {
      "image/png": "[encoded data removed]",
      "text/plain": [
       "<Figure size 800x600 with 1 Axes>"
      ]
     },
     "metadata": {},
     "output_type": "display_data"
    }
   ],
   "source": [
    "plt.figure(figsize=(8,6))\n",
    "sns.countplot(data=df, x=\"Contract\", hue=\"Churn\", palette={0:\"blue\", 1:\"red\"})\n",
    "plt.title(\"Contract Type vs Churn\")\n",
    "plt.xlabel(\"Contract Type\")\n",
    "plt.ylabel(\"Number of Customers\")\n",
    "plt.show()"
   ]
  },
  {
   "cell_type": "markdown",
   "id": "f3733674",
   "metadata": {},
   "source": [
    "Summarize your key findings from the EDA in a markdown cell.\n",
    "\n",
    "1. Churn rate is very high on Month-to-Month Contract type compare to Two or One year Contract . \n",
    "2. Company has to focus on new customers who give it a try to month-to-month contract to experience the service . Once they improve in this thing than automatically chrun rate will be reduce because long term contracts have very less churn rate ."
   ]
  },
  {
   "cell_type": "markdown",
   "id": "38587795",
   "metadata": {},
   "source": [
    "Task 2: Feature Engineering "
   ]
  },
  {
   "cell_type": "code",
   "execution_count": null,
   "id": "ab9138d5",
   "metadata": {},
   "outputs": [],
   "source": []
  },
  {
   "cell_type": "code",
   "execution_count": 60,
   "id": "652d09b4",
   "metadata": {},
   "outputs": [],
   "source": [
    "df['AverageMonthlyRevenue'] = df['Total Charges'] / (df['Tenure in Months'].replace(0, 1))\n"
   ]
  },
  {
   "cell_type": "markdown",
   "id": "b2ef6bed",
   "metadata": {},
   "source": [
    "This feature normalizes revenue over time, highlighting customers who pay more per month consistently."
   ]
  },
  {
   "cell_type": "code",
   "execution_count": 61,
   "id": "56e69d08",
   "metadata": {},
   "outputs": [
    {
     "data": {
      "text/plain": [
       "Index(['Age', 'Avg Monthly GB Download', 'Avg Monthly Long Distance Charges',\n",
       "       'Churn Score', 'City', 'CLTV', 'Contract', 'Country', 'Customer ID',\n",
       "       'Customer Status', 'Dependents', 'Device Protection Plan', 'Gender',\n",
       "       'Internet Service', 'Internet Type', 'Lat Long', 'Latitude',\n",
       "       'Longitude', 'Married', 'Monthly Charge', 'Multiple Lines',\n",
       "       'Number of Dependents', 'Number of Referrals', 'Offer', 'Online Backup',\n",
       "       'Online Security', 'Paperless Billing', 'Partner', 'Payment Method',\n",
       "       'Phone Service', 'Population', 'Premium Tech Support', 'Quarter',\n",
       "       'Referred a Friend', 'Satisfaction Score', 'Senior Citizen', 'State',\n",
       "       'Streaming Movies', 'Streaming Music', 'Streaming TV',\n",
       "       'Tenure in Months', 'Total Charges', 'Total Extra Data Charges',\n",
       "       'Total Long Distance Charges', 'Total Refunds', 'Total Revenue',\n",
       "       'Under 30', 'Unlimited Data', 'Zip Code', 'Churn',\n",
       "       'AverageMonthlyRevenue'],\n",
       "      dtype='object')"
      ]
     },
     "execution_count": 61,
     "metadata": {},
     "output_type": "execute_result"
    }
   ],
   "source": [
    "df.columns"
   ]
  },
  {
   "cell_type": "code",
   "execution_count": 62,
   "id": "438eca9c",
   "metadata": {},
   "outputs": [],
   "source": [
    "service_cols = [\n",
    "    'Phone Service', 'Internet Service', 'Online Security', \n",
    "    'Online Backup', 'Device Protection Plan', 'Premium Tech Support',\n",
    "    'Streaming TV', 'Streaming Movies' , 'Streaming Music'\n",
    "]\n",
    "\n",
    "# Count how many services a customer has\n",
    "df['ServiceCount'] = df[service_cols].apply(lambda row: sum(row != 'No'), axis=1)\n"
   ]
  },
  {
   "cell_type": "markdown",
   "id": "f8f3d8f2",
   "metadata": {},
   "source": [
    "This categorical column it easier for the model to learn patterns between engagement and churn."
   ]
  },
  {
   "cell_type": "code",
   "execution_count": 63,
   "id": "2c1a6d89",
   "metadata": {},
   "outputs": [
    {
     "data": {
      "text/plain": [
       "ServiceCount\n",
       "9    4225\n",
       "Name: count, dtype: int64"
      ]
     },
     "execution_count": 63,
     "metadata": {},
     "output_type": "execute_result"
    }
   ],
   "source": [
    "df['ServiceCount'].value_counts()   "
   ]
  },
  {
   "cell_type": "code",
   "execution_count": 64,
   "id": "61a6337a",
   "metadata": {},
   "outputs": [
    {
     "data": {
      "text/plain": [
       "Index(['Age', 'Avg Monthly GB Download', 'Avg Monthly Long Distance Charges',\n",
       "       'Churn Score', 'City', 'CLTV', 'Contract', 'Country', 'Customer ID',\n",
       "       'Customer Status', 'Dependents', 'Device Protection Plan', 'Gender',\n",
       "       'Internet Service', 'Internet Type', 'Lat Long', 'Latitude',\n",
       "       'Longitude', 'Married', 'Monthly Charge', 'Multiple Lines',\n",
       "       'Number of Dependents', 'Number of Referrals', 'Offer', 'Online Backup',\n",
       "       'Online Security', 'Paperless Billing', 'Partner', 'Payment Method',\n",
       "       'Phone Service', 'Population', 'Premium Tech Support', 'Quarter',\n",
       "       'Referred a Friend', 'Satisfaction Score', 'Senior Citizen', 'State',\n",
       "       'Streaming Movies', 'Streaming Music', 'Streaming TV',\n",
       "       'Tenure in Months', 'Total Charges', 'Total Extra Data Charges',\n",
       "       'Total Long Distance Charges', 'Total Refunds', 'Total Revenue',\n",
       "       'Under 30', 'Unlimited Data', 'Zip Code', 'Churn',\n",
       "       'AverageMonthlyRevenue', 'ServiceCount'],\n",
       "      dtype='object')"
      ]
     },
     "execution_count": 64,
     "metadata": {},
     "output_type": "execute_result"
    }
   ],
   "source": [
    "df.columns"
   ]
  },
  {
   "cell_type": "code",
   "execution_count": 65,
   "id": "e4ec23b7",
   "metadata": {},
   "outputs": [],
   "source": [
    "leakage_cols = [\n",
    "    'Churn', 'Churn Score', 'Customer Status', \n",
    "    'Customer ID', 'CLTV', 'Total Refunds', \n",
    "    'Total Revenue', 'AverageMonthlyRevenue', \n",
    "    'Lat Long', 'Latitude', 'Longitude', 'Zip Code'\n",
    "]\n",
    "\n",
    "X = df.drop(columns=leakage_cols)\n",
    "y = df['Churn']\n",
    "\n",
    "# Train-test split\n",
    "X_train, X_test, y_train, y_test = train_test_split(\n",
    "    X, y, test_size=0.2, random_state=42, stratify=y\n",
    ")\n"
   ]
  },
  {
   "cell_type": "code",
   "execution_count": 66,
   "id": "f4852a78",
   "metadata": {},
   "outputs": [],
   "source": [
    "# Separate numeric and categorical columns\n",
    "numeric_features = X.select_dtypes(include=['int64', 'float64']).columns.tolist()\n",
    "categorical_features = X.select_dtypes(include=['object']).columns.tolist()\n",
    "\n",
    "# Drop irrelevant columns (example: customerID, if it exists)\n",
    "irrelevant_cols = ['customerID']\n",
    "numeric_features = [col for col in numeric_features if col not in irrelevant_cols]\n",
    "categorical_features = [col for col in categorical_features if col not in irrelevant_cols]\n"
   ]
  },
  {
   "cell_type": "code",
   "execution_count": 67,
   "id": "d872b388",
   "metadata": {},
   "outputs": [],
   "source": [
    "from sklearn.pipeline import make_pipeline\n",
    "\n",
    "# Numeric preprocessing: impute missing with median, then scale\n",
    "numeric_transformer = Pipeline(steps=[\n",
    "    ('imputer', SimpleImputer(strategy='median')),\n",
    "    ('scaler', StandardScaler())\n",
    "])\n",
    "\n",
    "# Categorical preprocessing: impute missing with most_frequent, then OneHotEncode\n",
    "categorical_transformer = Pipeline(steps=[\n",
    "    ('imputer', SimpleImputer(strategy='most_frequent')),\n",
    "    ('encoder', OneHotEncoder(handle_unknown='ignore'))\n",
    "])\n",
    "\n",
    "# Combine into ColumnTransformer\n",
    "preprocessor = ColumnTransformer(\n",
    "    transformers=[\n",
    "        ('num', numeric_transformer, numeric_features),\n",
    "        ('cat', categorical_transformer, categorical_features)\n",
    "    ],\n",
    "    remainder='drop'   # drop irrelevant cols\n",
    ")\n"
   ]
  },
  {
   "cell_type": "code",
   "execution_count": 68,
   "id": "8e3d4bba",
   "metadata": {},
   "outputs": [],
   "source": [
    "# Combine preprocessor + classifier\n",
    "clf = Pipeline(steps=[\n",
    "    ('preprocessor', preprocessor),\n",
    "    ('classifier', LogisticRegression(max_iter=1000))\n",
    "])\n"
   ]
  },
  {
   "cell_type": "code",
   "execution_count": 69,
   "id": "84cea1b3",
   "metadata": {},
   "outputs": [
    {
     "name": "stdout",
     "output_type": "stream",
     "text": [
      "Accuracy: 0.9644970414201184\n",
      "\n",
      "Confusion Matrix:\n",
      " [[611  10]\n",
      " [ 20 204]]\n",
      "\n",
      "Classification Report:\n",
      "               precision    recall  f1-score   support\n",
      "\n",
      "           0       0.97      0.98      0.98       621\n",
      "           1       0.95      0.91      0.93       224\n",
      "\n",
      "    accuracy                           0.96       845\n",
      "   macro avg       0.96      0.95      0.95       845\n",
      "weighted avg       0.96      0.96      0.96       845\n",
      "\n"
     ]
    }
   ],
   "source": [
    "clf.fit(X_train, y_train)\n",
    "\n",
    "\n",
    "y_pred = clf.predict(X_test)\n",
    "\n",
    "print(\"Accuracy:\", accuracy_score(y_test, y_pred))\n",
    "print(\"\\nConfusion Matrix:\\n\", confusion_matrix(y_test, y_pred))\n",
    "print(\"\\nClassification Report:\\n\", classification_report(y_test, y_pred))\n"
   ]
  },
  {
   "cell_type": "code",
   "execution_count": 70,
   "id": "3499c01c",
   "metadata": {},
   "outputs": [],
   "source": [
    "from sklearn.model_selection import GridSearchCV\n",
    "from sklearn.ensemble import RandomForestClassifier"
   ]
  },
  {
   "cell_type": "code",
   "execution_count": null,
   "id": "b3273785",
   "metadata": {},
   "outputs": [
    {
     "name": "stdout",
     "output_type": "stream",
     "text": [
      "Fitting 5 folds for each of 27 candidates, totalling 135 fits\n",
      "Best Params: {'classifier__class_weight': 'balanced', 'classifier__max_depth': None, 'classifier__min_samples_split': 10, 'classifier__n_estimators': 300}\n",
      "Best Score: 0.9415815723591712\n"
     ]
    }
   ],
   "source": [
    "pipeline = Pipeline(steps=[('preprocessor', preprocessor),\n",
    "                           ('classifier', RandomForestClassifier(random_state=42))])\n",
    "\n",
    "param_grid = {\n",
    "    'classifier__n_estimators': [100, 200, 300],\n",
    "    'classifier__max_depth': [5, 10, None],\n",
    "    'classifier__min_samples_split': [2, 5, 10],\n",
    "    'classifier__class_weight': ['balanced'] \n",
    "}\n",
    "\n",
    "grid_search = GridSearchCV(\n",
    "    estimator=pipeline,\n",
    "    param_grid=param_grid,\n",
    "    cv=5,\n",
    "    scoring='f1_weighted',\n",
    "    n_jobs=-1,\n",
    "    verbose=2\n",
    ")\n",
    "\n",
    "# Step 4: Fit model\n",
    "grid_search.fit(X_train, y_train)\n",
    "\n",
    "# Step 5: Best params + performance\n",
    "print(\"Best Params:\", grid_search.best_params_)\n",
    "print(\"Best Score:\", grid_search.best_score_)"
   ]
  },
  {
   "cell_type": "markdown",
   "id": "48a377f1",
   "metadata": {},
   "source": [
    "With EMbalance"
   ]
  },
  {
   "cell_type": "code",
   "execution_count": 73,
   "id": "89b77232",
   "metadata": {},
   "outputs": [
    {
     "name": "stdout",
     "output_type": "stream",
     "text": [
      "=== Model with SMOTE Oversampling ===\n",
      "              precision    recall  f1-score   support\n",
      "\n",
      "           0       0.95      0.99      0.97       621\n",
      "           1       0.97      0.87      0.92       224\n",
      "\n",
      "    accuracy                           0.96       845\n",
      "   macro avg       0.96      0.93      0.94       845\n",
      "weighted avg       0.96      0.96      0.96       845\n",
      "\n"
     ]
    }
   ],
   "source": [
    "from imblearn.pipeline import Pipeline as ImbPipeline\n",
    "from imblearn.over_sampling import SMOTE\n",
    "\n",
    "smote_pipeline = ImbPipeline(steps=[\n",
    "    ('preprocessor', preprocessor),\n",
    "    ('smote', SMOTE(random_state=42)),\n",
    "    ('classifier', RandomForestClassifier(random_state=42))\n",
    "])\n",
    "\n",
    "smote_pipeline.fit(X_train, y_train)\n",
    "y_pred_smote = smote_pipeline.predict(X_test)\n",
    "\n",
    "print(\"=== Model with SMOTE Oversampling ===\")\n",
    "print(classification_report(y_test, y_pred_smote))\n"
   ]
  },
  {
   "cell_type": "markdown",
   "id": "04aa9ea6",
   "metadata": {},
   "source": [
    "Without Embalance"
   ]
  },
  {
   "cell_type": "code",
   "execution_count": 74,
   "id": "b59945dc",
   "metadata": {},
   "outputs": [
    {
     "name": "stdout",
     "output_type": "stream",
     "text": [
      "=== Baseline Model (No Imbalance Handling) ===\n",
      "              precision    recall  f1-score   support\n",
      "\n",
      "           0       0.94      1.00      0.97       621\n",
      "           1       0.99      0.83      0.90       224\n",
      "\n",
      "    accuracy                           0.95       845\n",
      "   macro avg       0.97      0.91      0.93       845\n",
      "weighted avg       0.95      0.95      0.95       845\n",
      "\n"
     ]
    }
   ],
   "source": [
    "from sklearn.ensemble import RandomForestClassifier\n",
    "from sklearn.metrics import classification_report\n",
    "\n",
    "# Baseline pipeline (no imbalance handling)\n",
    "baseline_pipeline = Pipeline(steps=[\n",
    "    ('preprocessor', preprocessor),\n",
    "    ('classifier', RandomForestClassifier(random_state=42))\n",
    "])\n",
    "\n",
    "baseline_pipeline.fit(X_train, y_train)\n",
    "y_pred_base = baseline_pipeline.predict(X_test)\n",
    "\n",
    "print(\"=== Baseline Model (No Imbalance Handling) ===\")\n",
    "print(classification_report(y_test, y_pred_base))\n"
   ]
  },
  {
   "cell_type": "markdown",
   "id": "86faefda",
   "metadata": {},
   "source": [
    "Recall for churners (class 1) improved from 0.83 → 0.87 with SMOTE.\n",
    "This means the model now detects more actual churners.\n",
    "\n",
    "Precision for churners dropped slightly (0.99 → 0.97) but is still excellent.\n",
    "\n",
    "F1-score for churners improved (0.90 → 0.92), showing better balance between precision & recall.\n",
    "\n",
    "Overall weighted F1 and accuracy improved a little (0.95 → 0.96)."
   ]
  },
  {
   "cell_type": "code",
   "execution_count": 75,
   "id": "0b01a0f9",
   "metadata": {},
   "outputs": [
    {
     "name": "stdout",
     "output_type": "stream",
     "text": [
      "Classification Report:\n",
      "               precision    recall  f1-score   support\n",
      "\n",
      "           0       0.95      0.99      0.97       621\n",
      "           1       0.97      0.87      0.92       224\n",
      "\n",
      "    accuracy                           0.96       845\n",
      "   macro avg       0.96      0.93      0.94       845\n",
      "weighted avg       0.96      0.96      0.96       845\n",
      "\n",
      "ROC AUC Score: 0.9801084080975385\n"
     ]
    },
    {
     "data": {
      "image/png": "[encoded data removed]",
      "text/plain": [
       "<Figure size 600x400 with 2 Axes>"
      ]
     },
     "metadata": {},
     "output_type": "display_data"
    },
    {
     "data": {
      "image/png": "[encoded data removed]",
      "text/plain": [
       "<Figure size 640x480 with 1 Axes>"
      ]
     },
     "metadata": {},
     "output_type": "display_data"
    }
   ],
   "source": [
    "from sklearn.metrics import classification_report, confusion_matrix, roc_auc_score, RocCurveDisplay\n",
    "import matplotlib.pyplot as plt\n",
    "import seaborn as sns\n",
    "\n",
    "# Evaluate on test set\n",
    "y_pred = smote_pipeline.predict(X_test)\n",
    "y_proba = smote_pipeline.predict_proba(X_test)[:, 1]  # probability for ROC-AUC\n",
    "\n",
    "# Metrics\n",
    "print(\"Classification Report:\\n\", classification_report(y_test, y_pred))\n",
    "print(\"ROC AUC Score:\", roc_auc_score(y_test, y_proba))\n",
    "\n",
    "# Confusion Matrix\n",
    "cm = confusion_matrix(y_test, y_pred)\n",
    "\n",
    "plt.figure(figsize=(6,4))\n",
    "sns.heatmap(cm, annot=True, fmt=\"d\", cmap=\"Blues\", xticklabels=[\"No Churn\", \"Churn\"], yticklabels=[\"No Churn\", \"Churn\"])\n",
    "plt.xlabel(\"Predicted\")\n",
    "plt.ylabel(\"Actual\")\n",
    "plt.title(\"Confusion Matrix\")\n",
    "plt.show()\n",
    "\n",
    "# ROC Curve\n",
    "RocCurveDisplay.from_estimator(smote_pipeline, X_test, y_test)\n",
    "plt.show()\n"
   ]
  },
  {
   "cell_type": "markdown",
   "id": "cd3fee50",
   "metadata": {},
   "source": [
    "False Negatives are generally worse in churn prediction because losing a customer is more expensive than mistakenly offering retention benefits to a loyal one. Many studies show that acquiring a new customer costs 5–7 times more than retaining an existing one."
   ]
  },
  {
   "cell_type": "code",
   "execution_count": 78,
   "id": "8659804d",
   "metadata": {},
   "outputs": [
    {
     "data": {
      "image/png": "[encoded data removed]",
      "text/plain": [
       "<Figure size 1000x600 with 1 Axes>"
      ]
     },
     "metadata": {},
     "output_type": "display_data"
    }
   ],
   "source": [
    "importances = smote_pipeline.named_steps['classifier'].feature_importances_\n",
    "feature_names = smote_pipeline.named_steps['preprocessor'].get_feature_names_out()\n",
    "\n",
    "# Create DataFrame\n",
    "feat_imp = pd.DataFrame({'Feature': feature_names, 'Importance': importances})\n",
    "feat_imp = feat_imp.sort_values(by='Importance', ascending=False).head(10)\n",
    "\n",
    "# Plot top 10\n",
    "plt.figure(figsize=(10,6))\n",
    "plt.barh(feat_imp['Feature'], feat_imp['Importance'], color='skyblue')\n",
    "plt.gca().invert_yaxis()\n",
    "plt.title(\"Top 10 Most Important Features Driving Churn\")\n",
    "plt.xlabel(\"Feature Importance Score\")\n",
    "plt.show()"
   ]
  },
  {
   "cell_type": "code",
   "execution_count": null,
   "id": "6cd78f2e",
   "metadata": {},
   "outputs": [],
   "source": []
  }
 ],
 "metadata": {
  "kernelspec": {
   "display_name": "myvenv",
   "language": "python",
   "name": "python3"
  },
  "language_info": {
   "codemirror_mode": {
    "name": "ipython",
    "version": 3
   },
   "file_extension": ".py",
   "mimetype": "text/x-python",
   "name": "python",
   "nbconvert_exporter": "python",
   "pygments_lexer": "ipython3",
   "version": "3.11.1"
  }
 },
 "nbformat": 4,
 "nbformat_minor": 5
}
